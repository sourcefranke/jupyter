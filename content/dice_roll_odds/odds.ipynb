{
 "cells": [
  {
   "cell_type": "markdown",
   "metadata": {
    "id": "253kUa6zPPU1",
    "pycharm": {
     "name": "#%% md\n"
    }
   },
   "source": [
    "# 1. Source code\n",
    "\n",
    "Let's start with all the source code first!\n",
    "\n",
    "The output will be shown below.\n",
    "\n",
    "## a) Cartesian Product\n",
    "\n",
    "This function generates all possible combinations of results when rolling multiple dice. It uses recursion to accumulate the results from each roll."
   ]
  },
  {
   "cell_type": "code",
   "execution_count": null,
   "metadata": {},
   "outputs": [],
   "source": [
    "def cartesian(die, number_dice=1, acc_func=lambda x, y: x + y):\n",
    "    \"\"\"\n",
    "    :param die: list of possible values of one die roll\n",
    "    :param number_dice: how many dice to be used\n",
    "    :param acc_func: function for accumulating the values from both dice\n",
    "    :return: list of all possible combinations of results for the dice roll\n",
    "    \"\"\"\n",
    "    if number_dice < 1:\n",
    "        return []\n",
    "\n",
    "    if number_dice == 1:\n",
    "        return die\n",
    "\n",
    "    accumulated = []\n",
    "    for x in cartesian(die, number_dice - 1, acc_func):\n",
    "        for y in die:\n",
    "            accumulated.append(acc_func(x, y))\n",
    "\n",
    "    return accumulated"
   ]
  },
  {
   "cell_type": "markdown",
   "metadata": {},
   "source": [
    "## b) Advantage\n",
    "\n",
    "In the context of Dungeons & Dragons, this function calculates the outcomes when rolling with advantage, meaning two dice are rolled and the higher result is used."
   ]
  },
  {
   "cell_type": "code",
   "execution_count": null,
   "metadata": {},
   "outputs": [],
   "source": [
    "def advantage(die, number_dice):\n",
    "    return cartesian(cartesian(die, number_dice), 2, max)"
   ]
  },
  {
   "cell_type": "markdown",
   "metadata": {},
   "source": [
    "## c) Run calculations\n",
    "\n",
    "This function computes the probabilities of each possible outcome for a given number of dice, using the specified rolling function."
   ]
  },
  {
   "cell_type": "code",
   "execution_count": null,
   "metadata": {},
   "outputs": [],
   "source": [
    "def calc(die, number_dice=1, roll_func=lambda d, n: cartesian(d, n)):\n",
    "    \"\"\"\n",
    "    :param die: list of possible values of one die roll\n",
    "    :param number_dice: how many dice to be used\n",
    "    :param roll_func: function for determining all possible combinations\n",
    "    :return: a dictionary with distinct results and their probability of occurrence\n",
    "    \"\"\"\n",
    "    def group_numbers(unordered):\n",
    "        grouped = {}\n",
    "        for x in unordered:\n",
    "            if x in grouped.keys():\n",
    "                grouped[x] = grouped[x] + 1\n",
    "            else:\n",
    "                grouped[x] = 1\n",
    "\n",
    "        return grouped\n",
    "    \n",
    "    def odds(grouped):\n",
    "        total = sum(grouped.values())\n",
    "\n",
    "        result = {}\n",
    "        for k in grouped.keys():\n",
    "            result[k] = (grouped[k] / total) * 100\n",
    "\n",
    "        return result\n",
    "\n",
    "    return odds( group_numbers( roll_func(die, number_dice) ) )"
   ]
  },
  {
   "cell_type": "markdown",
   "metadata": {},
   "source": [
    "## d) Plotting the results\n",
    "\n",
    "This function plots the calculated probabilities, comparing the outcomes of normal rolls to those with advantage, for easy visual comparison."
   ]
  },
  {
   "cell_type": "code",
   "execution_count": null,
   "metadata": {},
   "outputs": [],
   "source": [
    "import matplotlib.pyplot as plt\n",
    "\n",
    "def plot_data_adv(data_normal, data_adv, title):\n",
    "    \"\"\"\n",
    "    :param data_normal: dictionary to be plotted\n",
    "    :param data_adv: same count of dice, just with advantage\n",
    "    :param title: individual title for the diagram\n",
    "    \"\"\"\n",
    "    plt.title(title)\n",
    "    plt.xlabel(\"Roll\")\n",
    "    plt.ylabel(\"Odds in %\")\n",
    "    plt.plot(data_normal.keys(), data_normal.values(), color=\"b\", label='normal')\n",
    "    plt.plot(data_adv.keys(), data_adv.values(), color=\"r\", label='advantage')\n",
    "    plt.legend()\n",
    "    plt.show()"
   ]
  },
  {
   "cell_type": "markdown",
   "metadata": {},
   "source": [
    "## e) Print table\n",
    "\n",
    "This function prints a formatted table displaying the odds of each possible result for normal rolls and rolls with advantage."
   ]
  },
  {
   "cell_type": "code",
   "execution_count": null,
   "metadata": {},
   "outputs": [],
   "source": [
    "from fractions import Fraction\n",
    "\n",
    "def printTable(normal, adv):\n",
    "    print(\"| {:<6} | {:<12} | {:<13} |\".format('Result', 'Normal', 'Advanced'))\n",
    "    print(\"+++++++++++++++++++++++++++++++++++++++++\")\n",
    "    \n",
    "    for key, value in normal.items():\n",
    "        print(\"| {:<6} | {} | {} |\".format(key, str(Fraction(value/100).limit_denominator()).ljust(12), str(Fraction(adv[key]/100).limit_denominator()).ljust(13)))"
   ]
  },
  {
   "cell_type": "markdown",
   "metadata": {},
   "source": [
    "## f) Die definition\n",
    "\n",
    "Defines the die used in the calculations, typically a six-sided die (1-6)."
   ]
  },
  {
   "cell_type": "code",
   "execution_count": null,
   "metadata": {
    "colab": {
     "base_uri": "https://localhost:8080/"
    },
    "id": "5BQeEC6uGHSx",
    "outputId": "dbc6531f-ce3d-49a8-b48e-e4e0545d7b2d",
    "pycharm": {
     "name": "#%%\n"
    }
   },
   "outputs": [],
   "source": [
    "die = range(1, 7)"
   ]
  },
  {
   "cell_type": "markdown",
   "metadata": {},
   "source": [
    "# 2. Results\n",
    "\n",
    "Now, here is the output of the source code above!"
   ]
  },
  {
   "cell_type": "markdown",
   "metadata": {},
   "source": [
    "## a) One die\n",
    "\n",
    "Calculates and plots the probabilities for rolling one die, both normally and with advantage, and prints the results in a table."
   ]
  },
  {
   "cell_type": "code",
   "execution_count": null,
   "metadata": {
    "collapsed": false,
    "pycharm": {
     "name": "#%%\n"
    }
   },
   "outputs": [],
   "source": [
    "normal = calc(die)\n",
    "adv = calc(die, roll_func=advantage)\n",
    "\n",
    "plot_data_adv(normal, adv,\"One die\")\n",
    "printTable(normal, adv)"
   ]
  },
  {
   "cell_type": "markdown",
   "metadata": {},
   "source": [
    "## b) Two dice\n",
    "\n",
    "Calculates and plots the probabilities for rolling two dice, both normally and with advantage, and prints the results in a table."
   ]
  },
  {
   "cell_type": "code",
   "execution_count": null,
   "metadata": {
    "collapsed": false,
    "pycharm": {
     "name": "#%%\n"
    }
   },
   "outputs": [],
   "source": [
    "normal_2 = calc(die, 2)\n",
    "adv_2 = calc(die, 2, advantage)\n",
    "\n",
    "plot_data_adv(normal_2, adv_2,\"Two dice\")\n",
    "printTable(normal_2, adv_2)"
   ]
  },
  {
   "cell_type": "markdown",
   "metadata": {},
   "source": [
    "## c) Four dice\n",
    "\n",
    "Calculates and plots the probabilities for rolling four dice, both normally and with advantage, and prints the results in a table."
   ]
  },
  {
   "cell_type": "code",
   "execution_count": null,
   "metadata": {
    "collapsed": false,
    "pycharm": {
     "name": "#%%\n"
    }
   },
   "outputs": [],
   "source": [
    "normal_4 = calc(die, 4)\n",
    "adv_4 = calc(die, 4, advantage)\n",
    "\n",
    "plot_data_adv(normal_4, adv_4, \"Four dice\")\n",
    "printTable(normal_4, adv_4)"
   ]
  }
 ],
 "metadata": {
  "colab": {
   "authorship_tag": "ABX9TyPcSYdlerRMpW61vDSYckQF",
   "provenance": [],
   "toc_visible": true
  },
  "kernelspec": {
   "display_name": "Python 3",
   "name": "python3"
  },
  "language_info": {
   "codemirror_mode": {
    "name": "ipython",
    "version": 3
   },
   "file_extension": ".py",
   "mimetype": "text/x-python",
   "name": "python",
   "nbconvert_exporter": "python",
   "pygments_lexer": "ipython3",
   "version": "3.12.0"
  }
 },
 "nbformat": 4,
 "nbformat_minor": 0
}
